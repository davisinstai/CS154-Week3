{
 "cells": [
  {
   "cell_type": "markdown",
   "metadata": {
    "editable": true,
    "slideshow": {
     "slide_type": "subslide"
    },
    "tags": []
   },
   "source": [
    "# The Key Terms for Friday\n",
    "\n",
    "* set\n",
    "* set operators\n",
    "* set functions\n",
    "* set methods\n",
    "* iterable"
   ]
  },
  {
   "cell_type": "markdown",
   "metadata": {
    "editable": true,
    "slideshow": {
     "slide_type": "slide"
    },
    "tags": []
   },
   "source": [
    "# Sets"
   ]
  },
  {
   "cell_type": "markdown",
   "metadata": {
    "editable": true,
    "slideshow": {
     "slide_type": "subslide"
    },
    "tags": []
   },
   "source": [
    "A **set** is an *unordered* collection of items. For example, you can make a set of:\n",
    "* simple python data types (integers, floating point numbers, strings, booleans)\n",
    "* complex python data types (for example, other lists)\n",
    "* data types from python packages (for example, spaCy tokens)\n",
    "\n",
    "A set can even contain items of more than one data type! However, a set can contain only one of each element (for example, one `1` but not two `1`s).\n",
    "\n",
    "Because a set can contain other data types, we call it a \"complex\" data type.\n",
    "\n",
    "To make a set, we use `{` at the start and `}` at the end. We separate set items using ,. In the code cell below, type `{1, 2, 3, 2}` to make a set."
   ]
  },
  {
   "cell_type": "code",
   "execution_count": null,
   "metadata": {
    "editable": true,
    "slideshow": {
     "slide_type": "fragment"
    },
    "tags": []
   },
   "outputs": [],
   "source": []
  },
  {
   "cell_type": "markdown",
   "metadata": {
    "editable": true,
    "slideshow": {
     "slide_type": "subslide"
    },
    "tags": []
   },
   "source": [
    "Question: *How many items does the set contain?*"
   ]
  },
  {
   "cell_type": "markdown",
   "metadata": {
    "editable": true,
    "slideshow": {
     "slide_type": "subslide"
    },
    "tags": []
   },
   "source": [
    "To make an empty set, we don't use `{}` (we will learn about `{}` later this week). Instead, we use `set()`. In the code cell below, assign the value of the variable `empty_set` to be the empty set."
   ]
  },
  {
   "cell_type": "code",
   "execution_count": null,
   "metadata": {
    "editable": true,
    "slideshow": {
     "slide_type": "fragment"
    },
    "tags": []
   },
   "outputs": [],
   "source": [
    "# Assign empty_set to an empty set\n"
   ]
  },
  {
   "cell_type": "markdown",
   "metadata": {
    "editable": true,
    "slideshow": {
     "slide_type": "subslide"
    },
    "tags": []
   },
   "source": [
    "Here's a neat trick: you can make a set from a string; the set contains the unique characters in the string."
   ]
  },
  {
   "cell_type": "code",
   "execution_count": null,
   "metadata": {
    "editable": true,
    "slideshow": {
     "slide_type": "fragment"
    },
    "tags": []
   },
   "outputs": [],
   "source": [
    "# Make a character set from a string\n",
    "string_set = set('supercalifragilisticexpialidocious')\n",
    "\n",
    "# Print the set\n",
    "print(string_set)"
   ]
  },
  {
   "cell_type": "markdown",
   "metadata": {
    "editable": true,
    "slideshow": {
     "slide_type": "slide"
    },
    "tags": []
   },
   "source": [
    "# Set Operators"
   ]
  },
  {
   "cell_type": "markdown",
   "metadata": {
    "editable": true,
    "slideshow": {
     "slide_type": "subslide"
    },
    "tags": []
   },
   "source": [
    "Using the code cell below, try the set operators in this table. Fill in the definition of the operator and an example. Also note whether the operation is *symmetric* - does the result change when `first_set` is the first operand and `second_set` the second vs when `first_set` is the second operand and `second_set` the first?\n",
    "\n",
    "| Operator | Definition | Example | Symmetric? |\n",
    "| -------- | ---------- | ------- | ---------- |\n",
    "| &        |            |         |            |\n",
    "| ^        |            |         |            |\n",
    "| \\|        |            |         |            |\n",
    "| -        |            |         |            |\n"
   ]
  },
  {
   "cell_type": "code",
   "execution_count": null,
   "metadata": {
    "editable": true,
    "slideshow": {
     "slide_type": "fragment"
    },
    "tags": []
   },
   "outputs": [],
   "source": [
    "# Make a set\n",
    "first_set = {1, 2, 3}\n",
    "\n",
    "# Make another set\n",
    "second_set = {2, 3, 4}\n",
    "\n",
    "# Try the & operator\n",
    "print(first_set & second_set)\n",
    "\n",
    "# Try the ^ operator\n",
    "\n",
    "# Try the | operator\n",
    "\n",
    "# Try the - operator\n",
    "\n"
   ]
  },
  {
   "cell_type": "markdown",
   "metadata": {
    "editable": true,
    "slideshow": {
     "slide_type": "subslide"
    },
    "tags": []
   },
   "source": [
    "In addition to many of the operators you already know, there is a new operator that works on sets: `in`.\n",
    "\n",
    "`in` takes a set element as the left operand, and a set as the right operand. If the element is in the set, it returns `True`; otherwise it returns `False`.\n",
    "\n",
    "You can also use `not in` to check if an element is *not* in a set.\n",
    "\n",
    "Try these operators in the code cell below."
   ]
  },
  {
   "cell_type": "code",
   "execution_count": null,
   "metadata": {
    "editable": true,
    "slideshow": {
     "slide_type": "fragment"
    },
    "tags": []
   },
   "outputs": [],
   "source": [
    "# Check whether ` is in first_set\n",
    "\n",
    "# Check whether 1 is not in second_set\n",
    "\n",
    "# Check whether first_set is in second_set\n"
   ]
  },
  {
   "cell_type": "markdown",
   "metadata": {
    "editable": true,
    "slideshow": {
     "slide_type": "subslide"
    },
    "tags": []
   },
   "source": [
    "However, `in` does not detect **subset**."
   ]
  },
  {
   "cell_type": "code",
   "execution_count": null,
   "metadata": {
    "editable": true,
    "slideshow": {
     "slide_type": "fragment"
    },
    "tags": []
   },
   "outputs": [],
   "source": [
    "third_set = {1, 2}\n",
    "# Check whether third_set is in first_set\n",
    "print(third_set in first_set)"
   ]
  },
  {
   "cell_type": "markdown",
   "metadata": {
    "editable": true,
    "slideshow": {
     "slide_type": "slide"
    },
    "tags": []
   },
   "source": [
    "# Set Functions"
   ]
  },
  {
   "cell_type": "markdown",
   "metadata": {
    "editable": true,
    "slideshow": {
     "slide_type": "subslide"
    },
    "tags": []
   },
   "source": [
    "You can use the `len()` and `enumerate()` functions with sets. Try them in the code cell below. Then fill in their definitions here:\n",
    "\n",
    "* `len()`\n",
    "* `enumerate()`"
   ]
  },
  {
   "cell_type": "code",
   "execution_count": null,
   "metadata": {
    "editable": true,
    "slideshow": {
     "slide_type": "fragment"
    },
    "tags": []
   },
   "outputs": [],
   "source": [
    "# Try the len() function on first_set\n",
    "\n",
    "# Try the enumerate() function in a for loop on first_set\n"
   ]
  },
  {
   "cell_type": "markdown",
   "metadata": {
    "editable": true,
    "slideshow": {
     "slide_type": "slide"
    },
    "tags": []
   },
   "source": [
    "# Set Methods"
   ]
  },
  {
   "cell_type": "markdown",
   "metadata": {
    "editable": true,
    "slideshow": {
     "slide_type": "subslide"
    },
    "tags": []
   },
   "source": [
    "A **method** is a kind of function. (Remember, functions end in parentheses). Methods are specific to the data types they act on, so we put them *after* the value with a '.' in between, rather than around the value. \n",
    "\n",
    "You can get more information about functions and methods using `help()`. For example, in the code cell below we get help for the `len()` function and the set `add()` method."
   ]
  },
  {
   "cell_type": "code",
   "execution_count": null,
   "metadata": {},
   "outputs": [],
   "source": [
    "# Help for the len() function\n",
    "help(len)\n",
    "\n",
    "# Help for the set insert() method\n",
    "help(set.add)"
   ]
  },
  {
   "cell_type": "markdown",
   "metadata": {},
   "source": [
    "In the code cell below, use the `.` trick and the `help()` function to find out about methods you can use on sets. Fill in this table. Use `first_set`, `second_set` and `third_set` for the examples.\n",
    "\n",
    "| Method | Definition | Example |\n",
    "| ------ | ---------- | ------- |\n",
    "|        | add an element to a set |       |\n",
    "|        | remove an item from a set (there are *two* methods that do this!)  |       |\n",
    "|        | find the intersection of two sets  |       |\n",
    "|        | find the union of two sets  |       |\n",
    "|        | find the set difference of two sets   |       |\n",
    "|        | remove all the elements from a set |       |\n",
    "|        | check if one set is a subset of another |       |\n",
    "|        | check if one set is a superset of another |       |\n",
    "|        | check if two sets are disjoint  |       |"
   ]
  },
  {
   "cell_type": "code",
   "execution_count": null,
   "metadata": {
    "editable": true,
    "slideshow": {
     "slide_type": "fragment"
    },
    "tags": []
   },
   "outputs": [],
   "source": [
    "# Find and check set methods here\n"
   ]
  },
  {
   "cell_type": "markdown",
   "metadata": {
    "editable": true,
    "slideshow": {
     "slide_type": "slide"
    },
    "tags": []
   },
   "source": [
    "# Final Observation about Sets\n",
    "\n",
    "Sets are less often used than lists (which we will learn about on Monday) in general. However, in NLP they are super useful for getting the *unique* things (unique characters, unique tokens, etc.) Pretty soon, we will learn about **counters** which allow us to find the unique things and their frequencies all in one step."
   ]
  }
 ],
 "metadata": {
  "kernelspec": {
   "display_name": "Python 3 (ipykernel)",
   "language": "python",
   "name": "python3"
  },
  "language_info": {
   "codemirror_mode": {
    "name": "ipython",
    "version": 3
   },
   "file_extension": ".py",
   "mimetype": "text/x-python",
   "name": "python",
   "nbconvert_exporter": "python",
   "pygments_lexer": "ipython3",
   "version": "3.10.8"
  }
 },
 "nbformat": 4,
 "nbformat_minor": 4
}
