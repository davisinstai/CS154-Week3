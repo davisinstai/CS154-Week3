{
 "cells": [
  {
   "cell_type": "code",
   "execution_count": null,
   "metadata": {},
   "outputs": [],
   "source": [
    "# This allows me to display the notebook as slides.\n",
    "import mercury as mr\n",
    " \n",
    "app = mr.App(title=\"Week 2-2\", description=\"Lists\", show_code = True)"
   ]
  },
  {
   "cell_type": "markdown",
   "metadata": {},
   "source": [
    "# The Key Terms for Friday\n",
    "\n",
    "* set\n",
    "* set operators\n",
    "* set functions\n",
    "* set methods\n",
    "* foreach\n",
    "* iterable\n",
    "* set (and list) comprehension"
   ]
  },
  {
   "cell_type": "markdown",
   "metadata": {},
   "source": [
    "# Sets\n",
    "\n",
    "A **set**, like a list, is a collection of items. However, unlike a list, a set is *unordered*.\n",
    "\n",
    "To make a set, we use `{` at the start and `}` at the end. We separate set items using ,. In the code cell below, type `{1, 2, 3, 2}` to make a set."
   ]
  },
  {
   "cell_type": "code",
   "execution_count": null,
   "metadata": {},
   "outputs": [],
   "source": [
    "{1,2,3,2}"
   ]
  },
  {
   "cell_type": "markdown",
   "metadata": {},
   "source": [
    "Question: *How many items does the set contain?*"
   ]
  },
  {
   "cell_type": "markdown",
   "metadata": {},
   "source": [
    "Like a list, a set may contain any combination of:\n",
    "* simple python data types (integers, floating point numbers, strings, booleans)\n",
    "* complex python data types (lists, other sets, etc)\n",
    "* data types from python packages (like spaCy tokens)\n",
    "\n",
    "To make an empty list, we don't use `{}` (we will learn about `{}` next class session). Instead, we use `set()`. In the code cell below, assign the value of the variable `empty_set` to be the empty set."
   ]
  },
  {
   "cell_type": "code",
   "execution_count": null,
   "metadata": {},
   "outputs": [],
   "source": [
    "# Assign empty_set to an empty set\n"
   ]
  },
  {
   "cell_type": "markdown",
   "metadata": {},
   "source": [
    "Here's a neat trick: you can make a set from a string; the set contains the unique characters in the string."
   ]
  },
  {
   "cell_type": "code",
   "execution_count": null,
   "metadata": {},
   "outputs": [],
   "source": [
    "# Make a character set from a string\n",
    "string_set = set('supercalifragilisticexpialidocious')\n",
    "\n",
    "# Print the set\n",
    "print(string_set)"
   ]
  },
  {
   "cell_type": "markdown",
   "metadata": {},
   "source": [
    "Because a set is *unordered*, we cannot index into a set or take a slice from a set (as we would a list)."
   ]
  },
  {
   "cell_type": "markdown",
   "metadata": {},
   "source": [
    "# Set Operators"
   ]
  },
  {
   "cell_type": "markdown",
   "metadata": {},
   "source": [
    "Using the code cell below, try the set operators in this table. Fill in the definition of the operator and an example. Also note whether the operation is *symmetric* - does the result change when `first_Set` is the first operand and `second_Set` the second vs when `first_Set` is the second operand and `second_Set` the first?\n",
    "\n",
    "| Operator | Definition | Example | Symmetric? |\n",
    "| -------- | ---------- | ------- | ---------- |\n",
    "| &        |            |         |            |\n",
    "| ^        |            |         |            |\n",
    "| \\|        |            |         |            |\n",
    "| -        |            |         |            |\n"
   ]
  },
  {
   "cell_type": "code",
   "execution_count": null,
   "metadata": {},
   "outputs": [],
   "source": [
    "# Make a set\n",
    "first_set = {1, 2, 3}\n",
    "\n",
    "# Make another set\n",
    "second_set = {2, 3, 4}\n",
    "\n",
    "# Try the & operator\n",
    "print(first_set & second_set)\n",
    "\n",
    "# Try the ^ operator\n",
    "\n",
    "# Try the | operator\n",
    "\n",
    "# Try the - operator\n",
    "\n"
   ]
  },
  {
   "cell_type": "markdown",
   "metadata": {},
   "source": [
    "You can also use the `in` and `not in` operators on sets. Try these operators in the code cell below."
   ]
  },
  {
   "cell_type": "code",
   "execution_count": null,
   "metadata": {},
   "outputs": [],
   "source": [
    "# Check whether ` is in first_set\n",
    "\n",
    "# Check whether 1 is not in second_set\n",
    "\n",
    "# Check whether first_set is in second_set\n"
   ]
  },
  {
   "cell_type": "markdown",
   "metadata": {},
   "source": [
    "However, `in` does not detect **subset**."
   ]
  },
  {
   "cell_type": "code",
   "execution_count": null,
   "metadata": {},
   "outputs": [],
   "source": [
    "third_set = {1, 2}\n",
    "# Check whether third_set is in first_set\n",
    "print(third_set in first_set)"
   ]
  },
  {
   "cell_type": "markdown",
   "metadata": {},
   "source": [
    "# Set Functions"
   ]
  },
  {
   "cell_type": "markdown",
   "metadata": {},
   "source": [
    "As with lists, you can use the `len()` and `enumerate()` functions with sets. Try them in the code cell below."
   ]
  },
  {
   "cell_type": "code",
   "execution_count": null,
   "metadata": {},
   "outputs": [],
   "source": [
    "# Try the len() function on first_set\n",
    "\n",
    "# Try the enumerate() function in a for loop on first_set\n"
   ]
  },
  {
   "cell_type": "markdown",
   "metadata": {},
   "source": [
    "# Set Methods"
   ]
  },
  {
   "cell_type": "markdown",
   "metadata": {},
   "source": [
    "In the code cell below, use the `.` trick and the `help()` function to find out about methods you can use on sets. Fill in this table. Use `first_set`, `second_set` and `third_set` for the examples.\n",
    "\n",
    "| Method | Definition | Example |\n",
    "| ------ | ---------- | ------- |\n",
    "|        | add an element to a set |       |\n",
    "|        | remove an item from a set (there are *two* methods that do this!)  |       |\n",
    "|        | find the intersection of two sets  |       |\n",
    "|        | find the union of two sets  |       |\n",
    "|        | find the set difference of two sets   |       |\n",
    "|        | remove all the elements from a set |       |\n",
    "|        | check if one set is a subset of another |       |\n",
    "|        | check if one set is a superset of another |       |\n",
    "|        | check if two sets are disjoint  |       |"
   ]
  },
  {
   "cell_type": "code",
   "execution_count": null,
   "metadata": {},
   "outputs": [],
   "source": [
    "# Find and check set methods here\n"
   ]
  },
  {
   "cell_type": "markdown",
   "metadata": {},
   "source": [
    "# Converting Lists to Sets and Sets to Lists"
   ]
  },
  {
   "cell_type": "markdown",
   "metadata": {},
   "source": [
    "To convert a list to a set, use `set()`.\n",
    "\n",
    "To convert a set to a list, use `list()`.\n",
    "\n",
    "In the code cell below:\n",
    "\n",
    "1. Make a set containing 'iris', 'rose' and 'gardenia'. Print it out.\n",
    "2. Make the set into a list. Print it out. Notice how the `{}` turn into `[]`.\n",
    "3. Add 'buttercup' and another 'iris' to the list. Print it out.\n",
    "4. Make the list into a set. Print it out."
   ]
  },
  {
   "cell_type": "code",
   "execution_count": null,
   "metadata": {},
   "outputs": [],
   "source": [
    "# Make a set containing 'iris', 'rose' and 'gardenia'. Print it out.\n",
    "\n",
    "# Make the set into a list. Print it out. Notice how the `{}` turn into `[]`.\n",
    "\n",
    "# Add 'buttercup' and another 'iris' to the list. Print it out.\n",
    "\n",
    "# Make the list into a set. Print it out."
   ]
  },
  {
   "cell_type": "markdown",
   "metadata": {},
   "source": [
    "# Set and List Comprehensions"
   ]
  },
  {
   "cell_type": "markdown",
   "metadata": {},
   "source": [
    "So far if we want to iterate over the elements in a set or list, we use a loop. For example:"
   ]
  },
  {
   "cell_type": "code",
   "execution_count": null,
   "metadata": {},
   "outputs": [],
   "source": [
    "my_set = {'Olin', 'Arey', 'Keyes', 'Mudd'}\n",
    "\n",
    "for building in my_set:\n",
    "    print(building)"
   ]
  },
  {
   "cell_type": "markdown",
   "metadata": {},
   "source": [
    "There's a one line alternative way to express loops over **iterables** (like lists and sets) that is called a **comprehension**. \n",
    "\n",
    "* A list comprehension looks like `[action_on_item for item in iterable]` and results in a list\n",
    "* A set comprehension looks like `{action_on_item for item in iterable}` and results in a set\n",
    "\n",
    "For example, run the code cell below."
   ]
  },
  {
   "cell_type": "code",
   "execution_count": null,
   "metadata": {},
   "outputs": [],
   "source": [
    "# Make a list\n",
    "my_list = ['Lovejoy', 'Eustis', 'Diamond']\n",
    "\n",
    "# Make a list comprehension that lowercases each element in my_list\n",
    "print([x.lower() for x in my_list])"
   ]
  },
  {
   "cell_type": "markdown",
   "metadata": {},
   "source": [
    "In the code cell below, make a set comprehension using `my_set` that upper cases each element in `my_set`."
   ]
  },
  {
   "cell_type": "code",
   "execution_count": null,
   "metadata": {},
   "outputs": [],
   "source": []
  },
  {
   "cell_type": "markdown",
   "metadata": {},
   "source": [
    "You can use a list in a set comprehension, and vice versa! In the code cell below, paste the list comprehension from above and swap in `my_set` for `my_list`. Then copy the set comprehension from above and swap in `my_set` for `my_list`."
   ]
  },
  {
   "cell_type": "code",
   "execution_count": null,
   "metadata": {},
   "outputs": [],
   "source": []
  },
  {
   "cell_type": "markdown",
   "metadata": {},
   "source": [
    "You don't *have* to use list comprehensions, but they make your python code more elegant and idiomatic."
   ]
  },
  {
   "cell_type": "markdown",
   "metadata": {},
   "source": [
    "# Final Observation about Sets\n",
    "\n",
    "Sets are less often used than lists in general. However, in NLP they are super useful for getting the *unique* things (unique characters, unique tokens, etc.) Pretty soon, we will learn about **counters** which allow us to find the unique things and their frequencies all in one step."
   ]
  }
 ],
 "metadata": {
  "kernelspec": {
   "display_name": "Python 3",
   "language": "python",
   "name": "python3"
  },
  "language_info": {
   "codemirror_mode": {
    "name": "ipython",
    "version": 3
   },
   "file_extension": ".py",
   "mimetype": "text/x-python",
   "name": "python",
   "nbconvert_exporter": "python",
   "pygments_lexer": "ipython3",
   "version": "3.10.8"
  },
  "orig_nbformat": 4
 },
 "nbformat": 4,
 "nbformat_minor": 2
}
