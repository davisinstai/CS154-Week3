{
 "cells": [
  {
   "cell_type": "markdown",
   "metadata": {},
   "source": [
    "# Review\n",
    "\n",
    "Question 1: *Provide a definition of and example for each of these terms:*\n",
    "\n",
    "| Term | Example | Definition |\n",
    "| ----- | ------- | ---------- |\n",
    "| boolean  |            |     | \n",
    "| comparison operator  |            |      | \n",
    "| boolean operator   |            |      | \n",
    "| conditional statement   |            |     | \n",
    "| loop  |            |     | \n",
    "| list  |            |     | \n",
    "| index   |            |     | \n",
    "| slice   |            |     | \n",
    "| list operator  |            |     | \n",
    "| list function  |            |     | \n",
    "| list method  |            |     | "
   ]
  },
  {
   "cell_type": "markdown",
   "metadata": {},
   "source": [
    "Question 2: *For each of these operators, for each of the python data types we know, can it take them as operands? (Assume both operands are the same type.)*\n",
    "\n",
    "| Operator | Int/Float | String | Boolean | List |\n",
    "| -------  | --------- | ------ | ------- | ----- |\n",
    "| +\t|         |       |           |   |\n",
    "| -\t|         |       |           |   |\n",
    "| *\t|         |       |           |   |\n",
    "| /\t|         |       |           |   |\n",
    "| **\t|         |       |           |   |\n",
    "| % |         |       |           |   |\n",
    "| == |         |       |           |   |\n",
    "| != |         |       |           |   |\n",
    "| > |         |       |           |   |\n",
    "| < |         |       |           |   |\n",
    "| >= |         |       |           |   |\n",
    "| <= |         |       |           |   |\n",
    "| and |         |       |           |   |\n",
    "| or |         |       |           |   |\n",
    "| not |         |       |           |   |\n",
    "| in |         |       |           |   |\n",
    "| not in |         |       |           |   |"
   ]
  },
  {
   "cell_type": "markdown",
   "metadata": {},
   "source": [
    "Question 3: *For each of the data types listed below, list at least three functions that can be applied to that data type.*\n",
    "\n",
    "* string: \n",
    "* list: "
   ]
  },
  {
   "cell_type": "markdown",
   "metadata": {},
   "source": [
    "Question 5: *List some common list methods.*\n",
    "\n",
    "* first one\n",
    "* second one\n",
    "* third one\n",
    "* fourth one\n",
    "* fifth one"
   ]
  },
  {
   "cell_type": "markdown",
   "metadata": {},
   "source": [
    "# Coding Exercise: Flow Control Statements\n",
    "\n",
    "Using your knowledge of flow control statements, can you write code that asks a user for their name, then prints out a response depending on whether they are old enough to drive?"
   ]
  },
  {
   "cell_type": "code",
   "execution_count": null,
   "metadata": {},
   "outputs": [],
   "source": [
    "# Level 1 Challenge\n",
    "# A challenge to search a contacts dictionary and output any individuals who are architects. The result\n",
    "# should contain the name of any contacts who are architects.\n",
    "\n",
    "contacts ={\n",
    " 'Amanda Bennett': 'Engineer, electrical',\n",
    " 'Bryan Miller': 'Radiation protection practitioner',\n",
    " 'Christopher Garrison': 'Planning and development surveyor',\n",
    " 'Debra Allen': 'Intelligence analyst',\n",
    " 'Donna Decker': 'Architect',\n",
    " 'Heather Bullock': 'Media planner',\n",
    " 'Jason Brown': 'Energy manager',\n",
    " 'Jason Soto': 'Lighting technician, broadcasting/film/video',\n",
    " 'Marissa Munoz': 'Further education lecturer',\n",
    " 'Matthew Mccall': 'Chief Technology Officer',\n",
    " 'Michael Norman': 'Translator',\n",
    " 'Nicole Leblanc': 'Financial controller',\n",
    " 'Noah Delgado': 'Engineer, land',\n",
    " 'Rachel Charles': 'Physicist, medical',\n",
    " 'Stephanie Petty': 'Architect'}\n",
    "\n",
    "# Write your solution here. Example solutions at the end of this notebook."
   ]
  },
  {
   "cell_type": "code",
   "execution_count": null,
   "metadata": {},
   "outputs": [],
   "source": [
    "# Level 2 Challenge\n",
    "# From the dictionary called contacts, create a Python list called `leads` containing the names of people \n",
    "# who are architects, translators, or media planners.\n"
   ]
  }
 ],
 "metadata": {
  "language_info": {
   "name": "python"
  },
  "orig_nbformat": 4
 },
 "nbformat": 4,
 "nbformat_minor": 2
}
