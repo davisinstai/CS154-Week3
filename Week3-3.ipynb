{
 "cells": [
  {
   "cell_type": "markdown",
   "metadata": {},
   "source": [
    "# Review\n",
    "\n",
    "Question 1: *Provide a definition of and example for each of these terms:*\n",
    "\n",
    "| Term | Example | Definition |\n",
    "| ----- | ------- | ---------- |\n",
    "| boolean  |            |     | \n",
    "| comparison operator  |            |      | \n",
    "| boolean operator   |            |      | \n",
    "| conditional statement   |            |     | \n",
    "| loop  |            |     | \n",
    "| list  |            |     | \n",
    "| index   |            |     | \n",
    "| slice   |            |     | \n",
    "| list operator  |            |     | \n",
    "| list function  |            |     | \n",
    "| list method  |            |     | "
   ]
  },
  {
   "cell_type": "markdown",
   "metadata": {},
   "source": [
    "Question 2: *For each of these operators, for each of the python data types we know, can it take them as operands? (Assume both operands are the same type.)*\n",
    "\n",
    "| Operator | Int/Float | String | Boolean | List |\n",
    "| -------  | --------- | ------ | ------- | ----- |\n",
    "| +\t|         |       |           |   |\n",
    "| -\t|         |       |           |   |\n",
    "| *\t|         |       |           |   |\n",
    "| /\t|         |       |           |   |\n",
    "| **\t|         |       |           |   |\n",
    "| % |         |       |           |   |\n",
    "| == |         |       |           |   |\n",
    "| != |         |       |           |   |\n",
    "| > |         |       |           |   |\n",
    "| < |         |       |           |   |\n",
    "| >= |         |       |           |   |\n",
    "| <= |         |       |           |   |\n",
    "| and |         |       |           |   |\n",
    "| or |         |       |           |   |\n",
    "| not |         |       |           |   |\n",
    "| in |         |       |           |   |\n",
    "| not in |         |       |           |   |"
   ]
  },
  {
   "cell_type": "markdown",
   "metadata": {},
   "source": [
    "Question 3: *For each of the data types listed below, list at least three functions that can be applied to that data type.*\n",
    "\n",
    "* string: \n",
    "* list: "
   ]
  },
  {
   "cell_type": "markdown",
   "metadata": {},
   "source": [
    "Question 5: *List some common list methods.*\n",
    "\n",
    "* first one\n",
    "* second one\n",
    "* third one\n",
    "* fourth one\n",
    "* fifth one"
   ]
  },
  {
   "cell_type": "markdown",
   "metadata": {},
   "source": [
    "# Coding Exercise: Flow Control Statements\n",
    "\n",
    "Using your knowledge of flow control statements, can you write code that asks a user for their name, then prints out a response depending on whether they are old enough to drive?"
   ]
  }
 ],
 "metadata": {
  "language_info": {
   "name": "python"
  },
  "orig_nbformat": 4
 },
 "nbformat": 4,
 "nbformat_minor": 2
}
