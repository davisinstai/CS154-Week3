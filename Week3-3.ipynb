{
 "cells": [
  {
   "cell_type": "markdown",
   "metadata": {},
   "source": [
    "# Review\n",
    "\n",
    "Question 1: *Provide a definition of and example for each of these terms:*\n",
    "\n",
    "| Term | Example | Definition |\n",
    "| ----- | ------- | ---------- |\n",
    "| int  |            |     | \n",
    "| float |            |      | \n",
    "| string   |            |      | \n",
    "| boolean   |            |     | \n",
    "| list  |            |     | \n",
    "| set   |            |     | \n",
    "| dictionary |           |    |"
   ]
  },
  {
   "cell_type": "markdown",
   "metadata": {},
   "source": [
    "Question 2: *For each of these operators, for each of the python data types we know, can it take them as operands? (Assume both operands are the same type.)*\n",
    "\n",
    "| Operator | Int/Float | String | Boolean | List | Set | Dictionary |\n",
    "| -------  | --------- | ------ | ------- | ----- | --- | --------- |\n",
    "| +\t|         |       |           |   |     |     |\n",
    "| -\t|         |       |           |   |    |     |\n",
    "| *\t|         |       |           |   |    |     |\n",
    "| /\t|         |       |           |   |    |     |\n",
    "| **\t|         |       |           |   |    |     |\n",
    "| % |         |       |           |   |    |     |\n",
    "| == |         |       |           |   |    |     |\n",
    "| != |         |       |           |   |    |     |\n",
    "| > |         |       |           |   |    |     |\n",
    "| < |         |       |           |   |    |     |\n",
    "| >= |         |       |           |   |    |     |\n",
    "| <= |         |       |           |   |    |     |\n",
    "| and |         |       |           |   |    |     |\n",
    "| or |         |       |           |   |    |     |\n",
    "| not |         |       |           |   |    |     |\n",
    "| in |         |       |           |   |    |     |\n",
    "| not in |         |       |           |   |    |     |\n",
    "| & |         |       |           |   |    |     |\n",
    "| ^ |         |       |           |   |    |     |\n",
    "| \\| |         |       |           |   |    |     |"
   ]
  },
  {
   "cell_type": "markdown",
   "metadata": {},
   "source": [
    "Question 3: *For each of the data types listed below, list at least three functions that can be applied to that data type.*\n",
    "\n",
    "* string: \n",
    "* list: \n",
    "* set: \n",
    "* dictionary: "
   ]
  },
  {
   "cell_type": "markdown",
   "metadata": {},
   "source": [
    "Question 4: *List some common set methods.*\n",
    "\n",
    "* first one\n",
    "* second one\n",
    "* third one\n",
    "* fourth one\n",
    "* fifth one"
   ]
  },
  {
   "cell_type": "markdown",
   "metadata": {},
   "source": [
    "Question 5: *List some common dictionary methods.*\n",
    "\n",
    "* first one\n",
    "* second one\n",
    "* third one\n",
    "* fourth one\n",
    "* fifth one"
   ]
  },
  {
   "cell_type": "markdown",
   "metadata": {},
   "source": [
    "# Coding Exercise: Dictionaries\n",
    "\n",
    "Using your knowledge of dictionaries, you can make and search a directory of useful people you know this semester."
   ]
  },
  {
   "cell_type": "code",
   "execution_count": null,
   "metadata": {},
   "outputs": [],
   "source": [
    "# Question 6\n",
    "\n",
    "# Make a dictionary of at least ten contacts who are professors, TAs, class deans, CAs, coaches, friends... you have met so far this semester. I have made the first entry for you!\n",
    "\n",
    "contacts ={\n",
    " 'Amanda Stent': 'professor'\n",
    "}\n",
    "\n"
   ]
  },
  {
   "cell_type": "code",
   "execution_count": null,
   "metadata": {},
   "outputs": [],
   "source": [
    "# Question 7 \n",
    "\n",
    "# Write python code to print out the names of all professors in your contacts dictionary\n",
    "\n"
   ]
  },
  {
   "cell_type": "code",
   "execution_count": null,
   "metadata": {},
   "outputs": [],
   "source": [
    "# Question 8\n",
    "\n",
    "# Write python code to create a list of the names of professors, TAs, coaches and class deans from your contacts dictionary\n"
   ]
  },
  {
   "cell_type": "markdown",
   "metadata": {},
   "source": [
    "Question 9: *What are two \"gotchas\" for programming in python?*"
   ]
  },
  {
   "cell_type": "markdown",
   "metadata": {},
   "source": [
    "# Resources\n",
    "\n",
    "[Constellate tutorial](https://github.com/ithaka/constellate-notebooks) Python Basics 3.\n",
    "\n",
    "[Python](https://docs.python.org/3.10/) docs."
   ]
  }
 ],
 "metadata": {
  "language_info": {
   "name": "python"
  },
  "orig_nbformat": 4
 },
 "nbformat": 4,
 "nbformat_minor": 2
}
