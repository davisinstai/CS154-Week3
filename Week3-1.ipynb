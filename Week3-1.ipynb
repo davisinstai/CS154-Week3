{
 "cells": [
  {
   "cell_type": "code",
   "execution_count": null,
   "metadata": {},
   "outputs": [],
   "source": [
    "# This allows me to display the notebook as slides.\n",
    "import mercury as mr\n",
    " \n",
    "app = mr.App(title=\"Week 3-1\", description=\"Dictionaries\", show_code = True)"
   ]
  },
  {
   "cell_type": "markdown",
   "metadata": {},
   "source": [
    "# The Key Terms for Monday\n",
    "\n",
    "* dictionary\n",
    "* key-value pair\n",
    "* dictionary operators\n",
    "* dictionary functions\n",
    "* dictionary methods\n",
    "* dictionary comprehension"
   ]
  },
  {
   "cell_type": "markdown",
   "metadata": {},
   "source": [
    "## Dictionaries\n",
    "\n",
    "Like a list and a set, a **dictionary** can hold many values in a single variable. However, the *way* they are stored varies.\n",
    "* In a list, the elements are stored *in order*\n",
    "* In a set, the members are stored *unordered*\n",
    "* In a dictionary, we store **key-value** pairs\n",
    "\n",
    "For a minute, think of a book dictionary. In a book dictionary there are words paired with definitions. The words are the \"keys\" and the definitions are the \"values\".\n",
    "\n",
    "In a python dictionary, any simple python data type can be a key, and any simple or complex python data type can be a value. Data types from python packages can also be values. (Sometimes data tyeps other than simply python data types can be keys, but for now, we will just use simple python data types as keys.)\n",
    "\n",
    "Here's another way to think about python dictionaries. Remember lists? The index of an element in a list is its position in the list, but position may or may not be *meaningful*. The \"index\" of a dictionary value is its key, and dictionary keys are typically meaningful (to us as humans). "
   ]
  },
  {
   "cell_type": "markdown",
   "metadata": {},
   "source": [
    "To make a dictionary, we use `{` at the start and `}` at the end. We separate dictionary items (key-value pairs) using ,. Within a key-value pair, we separate key from value using `:`. In the code cell below, assign `my_dictionary` to the value `{'one': 1, 'two': 2, 'three': 3}` to make a dictionary that maps between the words for numbers and the numbers themselves."
   ]
  },
  {
   "cell_type": "code",
   "execution_count": null,
   "metadata": {},
   "outputs": [],
   "source": [
    "# Make a simple dictionary\n"
   ]
  },
  {
   "cell_type": "markdown",
   "metadata": {},
   "source": [
    "In a dictionary, both keys and values may be heterogeneous:\n",
    "* in a single dictionary, there may be keys that are strings, ints, floats, booleans...\n",
    "* In a single dictionary, there may be values that are strings, ints, floats, booleans, sets, lists, other dictionaries, tokens...\n",
    "\n",
    "However, *usually* the keys in a dictionary are all of the same type, and the values are all of the same type."
   ]
  },
  {
   "cell_type": "markdown",
   "metadata": {},
   "source": [
    "To make an empty dictionary, we use `{}`. In the code cell below, assign the variable `empty_dictionary` to be the empty dictionary.\n",
    "\n",
    "**Important note**: `{}` makes an empty *dictionary*, not an empty *set*. "
   ]
  },
  {
   "cell_type": "code",
   "execution_count": null,
   "metadata": {},
   "outputs": [],
   "source": [
    "# Assign empty_dictionary to the empty dictionary\n"
   ]
  },
  {
   "cell_type": "markdown",
   "metadata": {},
   "source": [
    "# Indexing Into Dictionaries"
   ]
  },
  {
   "cell_type": "markdown",
   "metadata": {},
   "source": [
    "To index into a dictionary we use the key. For example, to get the value `1` from `my_dictioanry`, we use `my_dictionary[1]`. Try it in the code cell below."
   ]
  },
  {
   "cell_type": "code",
   "execution_count": null,
   "metadata": {},
   "outputs": [],
   "source": [
    "# Get the value in my_dictionary for the key 'one'\n"
   ]
  },
  {
   "cell_type": "markdown",
   "metadata": {},
   "source": [
    "# Adding To A Dictionary"
   ]
  },
  {
   "cell_type": "markdown",
   "metadata": {},
   "source": [
    "You add key-avalue pairs to dictionaries using the `=` operator. The code in the code cell below adds a mapping for the number 4 to `my_dictionary`."
   ]
  },
  {
   "cell_type": "code",
   "execution_count": null,
   "metadata": {},
   "outputs": [],
   "source": [
    "# Add 4 to my_dictionary\n",
    "my_dictionary['four'] = 4\n",
    "\n",
    "# Print my_dictionary\n",
    "print(my_dictionary)"
   ]
  },
  {
   "cell_type": "markdown",
   "metadata": {},
   "source": [
    "# Printing Dictionaries"
   ]
  },
  {
   "cell_type": "markdown",
   "metadata": {},
   "source": [
    "It can be quite difficult to inspect a large dictionary. To help us, we use a python package called pprint (pretty print). Among other things, pretty print will print the dictionary with the keys in order. (Although python dictionaries are ordered now, they are ordered *in order of insertion*, which is not very useful.)"
   ]
  },
  {
   "cell_type": "code",
   "execution_count": null,
   "metadata": {},
   "outputs": [],
   "source": [
    "# A largeish dictionary of Colby buildings and the departments they contain\n",
    "colby_units = {'Davis AI': 'Olin', 'Environmental Studies': 'Olin', 'Chemistry': 'Arey', 'Biology': 'Olin', 'English': 'Miller', 'East Asian Studies': 'Lovejoy', 'Geology': 'Mudd', 'History': 'Miller', 'Spanish': 'Lovejoy', 'Physics': 'Mudd', 'Economics': 'Diamond', 'Anthropology': 'Diamond', 'Psychology': 'Davis', 'Computer Science': 'Davis', 'Mathematics': 'Davis', 'Art': 'Bixler', 'Music': 'Gordon', 'Theater': 'Gordon', 'Philosophy': 'Lovejoy', 'Government': 'Diamond', 'Sociology': 'Government', 'Lovejoy': 'Statistics', 'African American Studies': 'Diamond'}\n",
    "# Print\n",
    "print(colby_units)\n",
    "\n",
    "# Import pprint\n",
    "from pprint import pprint \n",
    "# Pretty print\n",
    "pprint(colby_units)"
   ]
  },
  {
   "cell_type": "markdown",
   "metadata": {},
   "source": [
    "# Dictionary Operators"
   ]
  },
  {
   "cell_type": "markdown",
   "metadata": {},
   "source": [
    "Using the code cell below, try the dictionary operators in this table. Fill in the definition of the operator and an example. \n",
    "\n",
    "| Operator | Definition | Example |\n",
    "| -------- | ---------- | ------- | \n",
    "| `in`        |            |         |  \n",
    "| `not in`       |            |         |  \n",
    "| ==        |            |         | \n",
    "| !=        |            |         | \n"
   ]
  },
  {
   "cell_type": "code",
   "execution_count": null,
   "metadata": {},
   "outputs": [],
   "source": [
    "# Try dictionary operators here\n"
   ]
  },
  {
   "cell_type": "markdown",
   "metadata": {},
   "source": [
    "# Dictionary Functions"
   ]
  },
  {
   "cell_type": "markdown",
   "metadata": {},
   "source": [
    "The table below lists the functions available for list and set. In the code cell below, try them on my_dictionary. If they don't work, delete them from the table. If they do, add the example to the table.\n",
    "\n",
    "| Function | Example |\n",
    "| -------- | ------- |\n",
    "| `len()` |           |\n",
    "| `del()`  |         |\n",
    "| `enumerate()` |     |\n"
   ]
  },
  {
   "cell_type": "code",
   "execution_count": null,
   "metadata": {},
   "outputs": [],
   "source": []
  },
  {
   "cell_type": "markdown",
   "metadata": {},
   "source": [
    "## Dictionary Methods\n",
    "\n",
    "We'll take a look at five useful [methods](https://constellate.org/docs/key-terms/#method) for working with [dictionaries](https://constellate.org/docs/key-terms/#dictionary): `update()`, `keys()`, `values()`, `items()`, and `get()`.\n",
    "\n",
    "|Method Name | Purpose | Form |\n",
    "|---|---|---|\n",
    "|update()| add new key/value pairs to a dictionary | dict_name.update({key1:value1, key2:value2})|\n",
    "| &nbsp; | combine two dictionaries |dict_name.update(dict_name2)|\n",
    "|keys()| check if a key is in a dictionary (True/False) | key_name in dict_name.keys()|\n",
    "| &nbsp; | Loop through the keys in a dictionary | for k in dict.keys():|\n",
    "|values()| check if a value is in a dictionary (True/False) | value_name in dict_name.values()|\n",
    "| &nbsp;| Loop through the values in a dictionary | for v in dict.values():|\n",
    "|items()| Loop through the keys and values in a dictionary | for k, v in dict.items():|\n",
    "|get()| retrieve the value for a specific key | dict_name.get(key_name) |"
   ]
  },
  {
   "cell_type": "markdown",
   "metadata": {},
   "source": [
    "In the code cell below, use the `.` trick and the `help()` function to find out about methods you can use on dictionaries. Fill in this table. Use `my_dictionary`, `second_set` and `third_set` for the examples.\n",
    "\n",
    "| Method | Definition | Example |\n",
    "| ------ | ---------- | ------- |\n",
    "|        | add a key-value pair to a dictionary |       |\n",
    "|        | add a dictionary to a dictionary  |       |\n",
    "|        | get the keys from a dictionary  |       |\n",
    "|        | get the values from a dictionary  |       |\n",
    "|        | get the key-value pairs from a dictionary   |       |\n",
    "|        | remove all the items from a dictionary |       |\n",
    "|        | get the value for a key in a dictionary |       |"
   ]
  },
  {
   "cell_type": "code",
   "execution_count": null,
   "metadata": {},
   "outputs": [],
   "source": [
    "# Find and check dictionary methods here\n"
   ]
  },
  {
   "cell_type": "markdown",
   "metadata": {},
   "source": [
    "What happens if you try to:\n",
    "* add a key-value pair to a dictionary, but the key is already in the dictionary?\n",
    "  * Using the `=` operator?\n",
    "  * Using the `update()` method?\n",
    "* Get the value for a key from a dictionary, but the key is *not* in the dictionary?\n",
    "  * Using the syntax `my_dictionary[key]`?\n",
    "  * Using the `get()` method?\n",
    "\n",
    "How might you address any issues?\n",
    "\n",
    "Use the code cells below to write the code."
   ]
  },
  {
   "cell_type": "code",
   "execution_count": null,
   "metadata": {},
   "outputs": [],
   "source": [
    "# Add a key-value pair to a dictionary but the key is already in the dictionary\n"
   ]
  },
  {
   "cell_type": "code",
   "execution_count": null,
   "metadata": {},
   "outputs": [],
   "source": [
    "# Get the value of a key from a dictionary, but the key is not in the dictionary"
   ]
  },
  {
   "cell_type": "markdown",
   "metadata": {},
   "source": [
    "# Combining `keys()`, `values()`, and `items()` with Flow Control Statements; Dictionary Comprehensiosn\n",
    "\n",
    "It is often usful to combine `for` loops with the keys(), values(), or items() [methods](https://constellate.org/docs/key-terms/#method) to repeat a task for each entry in a [dictionary](https://constellate.org/docs/key-terms/#dictionary). We have the following options:\n",
    "\n",
    "* `.keys()` iterates through only the dictionary keys\n",
    "* `.values()` iterates through only the dictionary values\n",
    "* `.items()` iterates through the keys *and* values\n",
    "\n",
    "Just like a list `for` loop, a temporary variable will be created based on whatever name comes after `for`."
   ]
  },
  {
   "cell_type": "code",
   "execution_count": null,
   "metadata": {},
   "outputs": [],
   "source": [
    "# Print every key in our dictionary\n",
    "for key in my_dictionary.keys(): # The variable `key` could be any variable name we choose\n",
    "    print(key)"
   ]
  },
  {
   "cell_type": "code",
   "execution_count": null,
   "metadata": {},
   "outputs": [],
   "source": [
    "# Print every value in our dictionary\n"
   ]
  },
  {
   "cell_type": "markdown",
   "metadata": {},
   "source": [
    "If we use the `.items()` method, we need to define *two* variable names. It is valid Python to define two variables at once."
   ]
  },
  {
   "cell_type": "code",
   "execution_count": null,
   "metadata": {},
   "outputs": [],
   "source": [
    "# Print every key and value in our dictionary\n",
    "for key, value in my_dictionary.items():\n",
    "    print(f'{key} has the value: {value}')"
   ]
  },
  {
   "cell_type": "markdown",
   "metadata": {},
   "source": [
    "You can also do all these for loops in one line **comprehensions**."
   ]
  },
  {
   "cell_type": "code",
   "execution_count": null,
   "metadata": {},
   "outputs": [],
   "source": [
    "# A comprehension over keys\n",
    "[print(key) for key in my_dictionary.keys()]\n",
    "\n",
    "# A comprehension over values\n",
    "\n",
    "# A comprehension over items\n"
   ]
  },
  {
   "cell_type": "markdown",
   "metadata": {},
   "source": [
    "# Converting Dictionaries to Lists and Sets"
   ]
  },
  {
   "cell_type": "markdown",
   "metadata": {},
   "source": [
    "# Final Observation about Dictionaries"
   ]
  },
  {
   "cell_type": "markdown",
   "metadata": {},
   "source": [
    "___\n",
    "<h2 style=\"color:red; display:inline\">Coding Challenge! &lt; / &gt; </h2>\n",
    "\n",
    "**Using your knowledge of flow control statements and dictionaries, can you write a program that lists all the architects in your contacts? Check the end of this notebook for possible solutions.**\n",
    "___"
   ]
  },
  {
   "cell_type": "code",
   "execution_count": null,
   "metadata": {},
   "outputs": [],
   "source": [
    "# Level 1 Challenge\n",
    "# A challenge to search a contacts dictionary and output any individuals who are architects. The result\n",
    "# should contain the name of any contacts who are architects.\n",
    "\n",
    "contacts ={\n",
    " 'Amanda Bennett': 'Engineer, electrical',\n",
    " 'Bryan Miller': 'Radiation protection practitioner',\n",
    " 'Christopher Garrison': 'Planning and development surveyor',\n",
    " 'Debra Allen': 'Intelligence analyst',\n",
    " 'Donna Decker': 'Architect',\n",
    " 'Heather Bullock': 'Media planner',\n",
    " 'Jason Brown': 'Energy manager',\n",
    " 'Jason Soto': 'Lighting technician, broadcasting/film/video',\n",
    " 'Marissa Munoz': 'Further education lecturer',\n",
    " 'Matthew Mccall': 'Chief Technology Officer',\n",
    " 'Michael Norman': 'Translator',\n",
    " 'Nicole Leblanc': 'Financial controller',\n",
    " 'Noah Delgado': 'Engineer, land',\n",
    " 'Rachel Charles': 'Physicist, medical',\n",
    " 'Stephanie Petty': 'Architect'}\n",
    "\n",
    "# Write your solution here. Example solutions at the end of this notebook.\n"
   ]
  },
  {
   "cell_type": "code",
   "execution_count": null,
   "metadata": {},
   "outputs": [],
   "source": [
    "# Level 2 Challenge\n",
    "# From the dictionary called contacts, create a Python list called `leads` containing the names of people \n",
    "# who are architects, translators, or media planners.\n"
   ]
  },
  {
   "cell_type": "markdown",
   "metadata": {},
   "source": [
    "___\n",
    "## Lesson Complete\n",
    "Congratulations! You have completed *Python Basics 3*. There are two more lessons in *Python Basics*:\n",
    "\n",
    "* *Python Basics 4*\n",
    "* *Python Basics 5*\n",
    "\n",
    "### Start Next Lesson: [Python Basics 4](./python-basics-4.ipynb)"
   ]
  },
  {
   "cell_type": "markdown",
   "metadata": {},
   "source": [
    "### Coding Challenge! Solutions\n"
   ]
  },
  {
   "cell_type": "code",
   "execution_count": null,
   "metadata": {},
   "outputs": [],
   "source": [
    "# Level 1 Solution\n",
    "# Correct the errors in the ranking list\n",
    "\n",
    "# Create the list\n",
    "ranking = ['USA',\n",
    "           'Germany',\n",
    "           'Sweden',\n",
    "           'France',\n",
    "           'Uruguay',\n",
    "           'Spain',\n",
    "           'Canda',\n",
    "           'Brazil',\n",
    "           'Netherlands',]\n",
    "\n",
    "# Correct the spelling of Canada\n",
    "ranking[6] = 'Canada'\n",
    "\n",
    "# Remove Uruguay and add Australia\n",
    "if 'Uruguay' in ranking:\n",
    "    ranking.remove('Uruguay')\n",
    "\n",
    "ranking.append('Australia')\n",
    "\n",
    "# Add England after Sweden\n",
    "if 'Sweden' in ranking:\n",
    "    england_index = ranking.index('Sweden') + 1\n",
    "    ranking.insert(england_index, 'England')"
   ]
  },
  {
   "cell_type": "code",
   "execution_count": null,
   "metadata": {},
   "outputs": [],
   "source": [
    "# Level 2 Solution\n",
    "# Write a program that lets the user input any country and check if they are in the top ten ranking\n",
    "\n",
    "# Create the ranking list\n",
    "ranking = ['USA',\n",
    " 'Germany',\n",
    " 'Sweden',\n",
    " 'England',\n",
    " 'France',\n",
    " 'Spain',\n",
    " 'Canada',\n",
    " 'Brazil',\n",
    " 'Netherlands',\n",
    " 'Australia']\n",
    "\n",
    "# Get the country from the user\n",
    "country = input('Which country are you interested in? ')\n",
    "\n",
    "if country in ranking:\n",
    "    print(f'{country} is in the top ten!')\n",
    "else:\n",
    "    print(f'{country} is not in the top ten.')"
   ]
  },
  {
   "cell_type": "code",
   "execution_count": null,
   "metadata": {},
   "outputs": [],
   "source": [
    "# Level 3 Solution\n",
    "# Write a program that lets a user input a country and receive their rank\n",
    "\n",
    "# Create the ranking list\n",
    "ranking = ['USA',\n",
    " 'Germany',\n",
    " 'Sweden',\n",
    " 'England',\n",
    " 'France',\n",
    " 'Spain',\n",
    " 'Canada',\n",
    " 'Brazil',\n",
    " 'Netherlands',\n",
    " 'Australia']\n",
    "\n",
    "# Get the country from the user\n",
    "country = input('Which country are you interested in? ')\n",
    "\n",
    "if country in ranking:\n",
    "    rank = ranking.index(country) + 1\n",
    "    print(f'{country} is ranked {rank}')\n",
    "else:\n",
    "    print(f'{country} is not in the top ten.')"
   ]
  },
  {
   "cell_type": "code",
   "execution_count": null,
   "metadata": {},
   "outputs": [],
   "source": [
    "# Level 4 Solution\n",
    "# Write a program that lets a user input a country and return all the teams with a higher rank\n",
    "\n",
    "# Create the ranking list\n",
    "ranking = ['USA',\n",
    " 'Germany',\n",
    " 'Sweden',\n",
    " 'England',\n",
    " 'France',\n",
    " 'Spain',\n",
    " 'Canada',\n",
    " 'Brazil',\n",
    " 'Netherlands',\n",
    " 'Australia']\n",
    "\n",
    "# Get the country from the user\n",
    "country = input('Which country are you interested in? ')\n",
    "\n",
    "if country in ranking:\n",
    "    index = ranking.index(country)\n",
    "else:\n",
    "    index = None\n",
    "    print('That country is not in the top ten.')\n",
    "\n",
    "if index != None:\n",
    "    print('These countries have a higher rank:')\n",
    "    for each_country in ranking[:index]:\n",
    "        print(each_country)"
   ]
  },
  {
   "cell_type": "markdown",
   "metadata": {},
   "source": [
    "#### Dictionaries Challenge Level 1"
   ]
  },
  {
   "cell_type": "code",
   "execution_count": null,
   "metadata": {},
   "outputs": [],
   "source": [
    "# Level 1 Challenge Solution\n",
    "# A challenge to search a contacts dictionary and output any individuals who are architects. The result\n",
    "# should contain the name of any contacts who are architects.\n",
    "\n",
    "contacts ={\n",
    " 'Amanda Bennett': 'Engineer, electrical',\n",
    " 'Bryan Miller': 'Radiation protection practitioner',\n",
    " 'Christopher Garrison': 'Planning and development surveyor',\n",
    " 'Debra Allen': 'Intelligence analyst',\n",
    " 'Donna Decker': 'Architect',\n",
    " 'Heather Bullock': 'Media planner',\n",
    " 'Jason Brown': 'Energy manager',\n",
    " 'Jason Soto': 'Lighting technician, broadcasting/film/video',\n",
    " 'Marissa Munoz': 'Further education lecturer',\n",
    " 'Matthew Mccall': 'Chief Technology Officer',\n",
    " 'Michael Norman': 'Translator',\n",
    " 'Nicole Leblanc': 'Financial controller',\n",
    " 'Noah Delgado': 'Engineer, land',\n",
    " 'Rachel Charles': 'Physicist, medical',\n",
    " 'Stephanie Petty': 'Architect'}\n",
    "\n",
    "# Write your solution here. Example solutions at the end of this notebook.\n",
    "\n",
    "for name, occupation in contacts.items():\n",
    "    if occupation == 'Architect':\n",
    "        print(name)"
   ]
  },
  {
   "cell_type": "markdown",
   "metadata": {},
   "source": [
    "#### Dictionaries Challenge Level 2"
   ]
  },
  {
   "cell_type": "code",
   "execution_count": null,
   "metadata": {},
   "outputs": [],
   "source": [
    "# Level 2 Challenge\n",
    "# From the dictionary called contacts, create a Python list called `leads` containing the names of people \n",
    "# who are architects, translators, or media planners.\n",
    "leads = []\n",
    "\n",
    "for name, occupation in contacts.items():\n",
    "    if occupation == 'Architect' or occupation == 'Translator' or occupation =='Media planner':\n",
    "        leads.append(name)\n",
    "\n",
    "print(leads)"
   ]
  },
  {
   "cell_type": "markdown",
   "metadata": {},
   "source": [
    "hashmap; json"
   ]
  }
 ],
 "metadata": {
  "kernelspec": {
   "display_name": "Python 3 (ipykernel)",
   "language": "python",
   "name": "python3"
  },
  "language_info": {
   "codemirror_mode": {
    "name": "ipython",
    "version": 3
   },
   "file_extension": ".py",
   "mimetype": "text/x-python",
   "name": "python",
   "nbconvert_exporter": "python",
   "pygments_lexer": "ipython3",
   "version": "3.10.8"
  },
  "toc": {
   "base_numbering": 1,
   "nav_menu": {},
   "number_sections": true,
   "sideBar": true,
   "skip_h1_title": true,
   "title_cell": "Table of Contents",
   "title_sidebar": "Contents",
   "toc_cell": false,
   "toc_position": {
    "height": "calc(100% - 180px)",
    "left": "10px",
    "top": "150px",
    "width": "354px"
   },
   "toc_section_display": true,
   "toc_window_display": false
  }
 },
 "nbformat": 4,
 "nbformat_minor": 4
}
