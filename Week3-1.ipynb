{
 "cells": [
  {
   "cell_type": "markdown",
   "metadata": {
    "editable": true,
    "slideshow": {
     "slide_type": "slide"
    },
    "tags": []
   },
   "source": [
    "# The Key Terms for Monday\n",
    "\n",
    "* dictionary\n",
    "* key-value pair\n",
    "* dictionary operators\n",
    "* dictionary functions\n",
    "* dictionary methods\n",
    "* dictionary comprehension"
   ]
  },
  {
   "cell_type": "markdown",
   "metadata": {
    "editable": true,
    "slideshow": {
     "slide_type": "slide"
    },
    "tags": []
   },
   "source": [
    "# Dictionaries"
   ]
  },
  {
   "cell_type": "markdown",
   "metadata": {
    "editable": true,
    "slideshow": {
     "slide_type": "subslide"
    },
    "tags": []
   },
   "source": [
    "Like a list and a set, a **dictionary** can hold many values in a single variable. However, the *way* they are stored varies.\n",
    "* In a list, the elements are stored *in order*\n",
    "* In a set, the members are stored *unordered*\n",
    "* In a dictionary, we store **key-value** pairs\n",
    "\n",
    "For a minute, think of a book dictionary. In a book dictionary there are words paired with definitions. The words are the \"keys\" and the definitions are the \"values\".\n",
    "\n",
    "In a python dictionary, any simple python data type can be a key, and any simple or complex python data type can be a value. Data types from python packages can also be values. (Sometimes data tyeps other than simply python data types can be keys, but for now, we will just use simple python data types as keys.)"
   ]
  },
  {
   "cell_type": "markdown",
   "metadata": {
    "editable": true,
    "slideshow": {
     "slide_type": "subslide"
    },
    "tags": []
   },
   "source": [
    "Here's another way to think about python dictionaries. Remember lists? The index of an element in a list is its position in the list, but position may or may not be *meaningful*. The \"index\" of a dictionary value is its key, and dictionary keys are typically meaningful (to us as humans). "
   ]
  },
  {
   "cell_type": "markdown",
   "metadata": {
    "editable": true,
    "slideshow": {
     "slide_type": "subslide"
    },
    "tags": []
   },
   "source": [
    "To make a dictionary, we use `{` at the start and `}` at the end. We separate dictionary items (key-value pairs) using ,. Within a key-value pair, we separate key from value using `:`. In the code cell below, we assign `my_dictionary` to the value `{'one': 1, 'two': 2, 'three': 3}` to make a dictionary that maps between the words for numbers and the numbers themselves."
   ]
  },
  {
   "cell_type": "code",
   "execution_count": 1,
   "metadata": {
    "editable": true,
    "slideshow": {
     "slide_type": "fragment"
    },
    "tags": []
   },
   "outputs": [],
   "source": [
    "# Make a simple dictionary\n",
    "my_dictionary = {'one': 1, 'two': 2, 'three': 3}"
   ]
  },
  {
   "cell_type": "markdown",
   "metadata": {
    "editable": true,
    "slideshow": {
     "slide_type": "subslide"
    },
    "tags": []
   },
   "source": [
    "In a dictionary, both keys and values may be heterogeneous:\n",
    "* in a single dictionary, there may be keys that are strings, ints, floats, booleans...\n",
    "* In a single dictionary, there may be values that are strings, ints, floats, booleans, sets, lists, other dictionaries, tokens...\n",
    "\n",
    "However, *usually* the keys in a dictionary are all of the same type, and the values are all of the same type."
   ]
  },
  {
   "cell_type": "markdown",
   "metadata": {
    "editable": true,
    "slideshow": {
     "slide_type": "subslide"
    },
    "tags": []
   },
   "source": [
    "To make an empty dictionary, we use `{}`. In the code cell below, assign the variable `empty_dictionary` to be the empty dictionary.\n",
    "\n",
    "**Important note**: `{}` makes an empty *dictionary*, not an empty *set*. "
   ]
  },
  {
   "cell_type": "code",
   "execution_count": null,
   "metadata": {
    "editable": true,
    "slideshow": {
     "slide_type": "fragment"
    },
    "tags": []
   },
   "outputs": [],
   "source": [
    "# Assign empty_dictionary to the empty dictionary\n"
   ]
  },
  {
   "cell_type": "markdown",
   "metadata": {
    "editable": true,
    "slideshow": {
     "slide_type": "slide"
    },
    "tags": []
   },
   "source": [
    "# Indexing Into Dictionaries"
   ]
  },
  {
   "cell_type": "markdown",
   "metadata": {
    "editable": true,
    "slideshow": {
     "slide_type": "subslide"
    },
    "tags": []
   },
   "source": [
    "To index into a dictionary we use the key. For example, to get the value `1` from `my_dictioanry`, we use `my_dictionary[1]`. Try it in the code cell below."
   ]
  },
  {
   "cell_type": "code",
   "execution_count": null,
   "metadata": {
    "editable": true,
    "slideshow": {
     "slide_type": "fragment"
    },
    "tags": []
   },
   "outputs": [],
   "source": [
    "# Get the value in my_dictionary for the key 'one'\n"
   ]
  },
  {
   "cell_type": "markdown",
   "metadata": {
    "editable": true,
    "slideshow": {
     "slide_type": "slide"
    },
    "tags": []
   },
   "source": [
    "# Adding To A Dictionary"
   ]
  },
  {
   "cell_type": "markdown",
   "metadata": {
    "editable": true,
    "slideshow": {
     "slide_type": "subslide"
    },
    "tags": []
   },
   "source": [
    "You add key-avalue pairs to dictionaries using the `=` operator. The code in the code cell below adds a mapping for the number 4 to `my_dictionary`."
   ]
  },
  {
   "cell_type": "code",
   "execution_count": null,
   "metadata": {
    "editable": true,
    "slideshow": {
     "slide_type": "fragment"
    },
    "tags": []
   },
   "outputs": [],
   "source": [
    "# Add 4 to my_dictionary\n",
    "my_dictionary['four'] = 4\n",
    "\n",
    "# Print my_dictionary\n",
    "print(my_dictionary)"
   ]
  },
  {
   "cell_type": "markdown",
   "metadata": {
    "editable": true,
    "slideshow": {
     "slide_type": "slide"
    },
    "tags": []
   },
   "source": [
    "# Printing Dictionaries"
   ]
  },
  {
   "cell_type": "markdown",
   "metadata": {
    "editable": true,
    "slideshow": {
     "slide_type": "subslide"
    },
    "tags": []
   },
   "source": [
    "It can be quite difficult to inspect a large dictionary. To help us, we use a python package called pprint (pretty print). Among other things, pretty print will print the dictionary with the keys in order. (Although python dictionaries are ordered now, they are ordered *in order of insertion*, which is not very useful.)"
   ]
  },
  {
   "cell_type": "code",
   "execution_count": null,
   "metadata": {
    "editable": true,
    "slideshow": {
     "slide_type": "fragment"
    },
    "tags": []
   },
   "outputs": [],
   "source": [
    "# A largeish dictionary of Colby buildings and the departments they contain\n",
    "colby_units = {'Davis AI': 'Olin', 'Environmental Studies': 'Olin', 'Chemistry': 'Arey', 'Biology': 'Olin', 'English': 'Miller', 'East Asian Studies': 'Lovejoy', 'Geology': 'Mudd', 'History': 'Miller', 'Spanish': 'Lovejoy', 'Physics': 'Mudd', 'Economics': 'Diamond', 'Anthropology': 'Diamond', 'Psychology': 'Davis', 'Computer Science': 'Davis', 'Mathematics': 'Davis', 'Art': 'Bixler', 'Music': 'Gordon', 'Theater': 'Gordon', 'Philosophy': 'Lovejoy', 'Government': 'Diamond', 'Sociology': 'Government', 'Lovejoy': 'Statistics', 'African American Studies': 'Diamond'}\n",
    "# Print\n",
    "print(colby_units)\n",
    "\n",
    "# Import pprint\n",
    "from pprint import pprint \n",
    "# Pretty print\n",
    "pprint(colby_units)"
   ]
  },
  {
   "cell_type": "markdown",
   "metadata": {
    "editable": true,
    "slideshow": {
     "slide_type": "slide"
    },
    "tags": []
   },
   "source": [
    "# Dictionary Operators"
   ]
  },
  {
   "cell_type": "markdown",
   "metadata": {
    "editable": true,
    "slideshow": {
     "slide_type": "subslide"
    },
    "tags": []
   },
   "source": [
    "Using the code cell below, try the dictionary operators in this table. Fill in the definition of the operator and an example. \n",
    "\n",
    "| Operator | Definition | Example |\n",
    "| -------- | ---------- | ------- | \n",
    "| `in`        |            |         |  \n",
    "| `not in`       |            |         |  \n",
    "| ==        |            |         | \n",
    "| !=        |            |         | \n"
   ]
  },
  {
   "cell_type": "code",
   "execution_count": null,
   "metadata": {
    "editable": true,
    "slideshow": {
     "slide_type": "fragment"
    },
    "tags": []
   },
   "outputs": [],
   "source": [
    "# Try dictionary operators here\n"
   ]
  },
  {
   "cell_type": "markdown",
   "metadata": {
    "editable": true,
    "slideshow": {
     "slide_type": "slide"
    },
    "tags": []
   },
   "source": [
    "# Dictionary Functions"
   ]
  },
  {
   "cell_type": "markdown",
   "metadata": {
    "editable": true,
    "slideshow": {
     "slide_type": "subslide"
    },
    "tags": []
   },
   "source": [
    "The table below lists the functions available for list and set. In the code cell below, try them on my_dictionary. If they don't work, delete them from the table. If they do, add the example to the table.\n",
    "\n",
    "| Function | Example |\n",
    "| -------- | ------- |\n",
    "| `len()` |           |\n",
    "| `del()`  |         |\n",
    "| `enumerate()` |     |\n"
   ]
  },
  {
   "cell_type": "code",
   "execution_count": null,
   "metadata": {
    "editable": true,
    "slideshow": {
     "slide_type": "fragment"
    },
    "tags": []
   },
   "outputs": [],
   "source": []
  },
  {
   "cell_type": "markdown",
   "metadata": {
    "editable": true,
    "slideshow": {
     "slide_type": "slide"
    },
    "tags": []
   },
   "source": [
    "# Dictionary Methods"
   ]
  },
  {
   "cell_type": "markdown",
   "metadata": {
    "editable": true,
    "slideshow": {
     "slide_type": "subslide"
    },
    "tags": []
   },
   "source": [
    "In the code cell below, use the `.` trick and the `help()` function to find out about methods you can use on dictionaries. Fill in this table. Use `my_dictionary`, `second_set` and `third_set` for the examples.\n",
    "\n",
    "| Method | Definition | Example |\n",
    "| ------ | ---------- | ------- |\n",
    "|        | add a key-value pair to a dictionary |       |\n",
    "|        | add a dictionary to a dictionary  |       |\n",
    "|        | get the keys from a dictionary  |       |\n",
    "|        | get the values from a dictionary  |       |\n",
    "|        | get the key-value pairs from a dictionary   |       |\n",
    "|        | remove all the items from a dictionary |       |\n",
    "|        | get the value for a key in a dictionary |       |"
   ]
  },
  {
   "cell_type": "code",
   "execution_count": null,
   "metadata": {
    "editable": true,
    "slideshow": {
     "slide_type": "fragment"
    },
    "tags": []
   },
   "outputs": [],
   "source": [
    "# Find and check dictionary methods here\n"
   ]
  },
  {
   "cell_type": "markdown",
   "metadata": {
    "editable": true,
    "slideshow": {
     "slide_type": "subslide"
    },
    "tags": []
   },
   "source": [
    "What happens if you try to:\n",
    "* add a key-value pair to a dictionary, but the key is already in the dictionary?\n",
    "  * Using the `=` operator?\n",
    "  * Using the `update()` method?\n",
    "* Get the value for a key from a dictionary, but the key is *not* in the dictionary?\n",
    "  * Using the syntax `my_dictionary[key]`?\n",
    "  * Using the `get()` method?\n",
    "\n",
    "How might you address any issues?\n",
    "\n",
    "Use the code cells below to write the code."
   ]
  },
  {
   "cell_type": "code",
   "execution_count": null,
   "metadata": {
    "editable": true,
    "slideshow": {
     "slide_type": "fragment"
    },
    "tags": []
   },
   "outputs": [],
   "source": [
    "# Add a key-value pair to a dictionary but the key is already in the dictionary\n"
   ]
  },
  {
   "cell_type": "code",
   "execution_count": null,
   "metadata": {
    "editable": true,
    "slideshow": {
     "slide_type": "fragment"
    },
    "tags": []
   },
   "outputs": [],
   "source": [
    "# Get the value of a key from a dictionary, but the key is not in the dictionary\n"
   ]
  },
  {
   "cell_type": "markdown",
   "metadata": {
    "editable": true,
    "slideshow": {
     "slide_type": "slide"
    },
    "tags": []
   },
   "source": [
    "# Combining `keys()`, `values()`, and `items()` with Flow Control Statements; Dictionary Comprehensiosn"
   ]
  },
  {
   "cell_type": "markdown",
   "metadata": {
    "editable": true,
    "slideshow": {
     "slide_type": "subslide"
    },
    "tags": []
   },
   "source": [
    "It is often usful to combine `for` loops with the keys(), values(), or items() [methods](https://constellate.org/docs/key-terms/#method) to repeat a task for each entry in a [dictionary](https://constellate.org/docs/key-terms/#dictionary). We have the following options:\n",
    "\n",
    "* `.keys()` iterates through only the dictionary keys\n",
    "* `.values()` iterates through only the dictionary values\n",
    "* `.items()` iterates through the keys *and* values\n",
    "\n",
    "Just like a list `for` loop, a temporary variable will be created based on whatever name comes after `for`."
   ]
  },
  {
   "cell_type": "code",
   "execution_count": null,
   "metadata": {
    "editable": true,
    "slideshow": {
     "slide_type": "fragment"
    },
    "tags": []
   },
   "outputs": [],
   "source": [
    "# Print every key in our dictionary\n",
    "for key in my_dictionary.keys(): # The variable `key` could be any variable name we choose\n",
    "    print(key)"
   ]
  },
  {
   "cell_type": "code",
   "execution_count": null,
   "metadata": {
    "editable": true,
    "slideshow": {
     "slide_type": "fragment"
    },
    "tags": []
   },
   "outputs": [],
   "source": [
    "# Print every value in our dictionary\n"
   ]
  },
  {
   "cell_type": "markdown",
   "metadata": {
    "editable": true,
    "slideshow": {
     "slide_type": "subslide"
    },
    "tags": []
   },
   "source": [
    "If we use the `.items()` method, we need to define *two* variable names. It is valid python to define two variables at once."
   ]
  },
  {
   "cell_type": "code",
   "execution_count": null,
   "metadata": {
    "editable": true,
    "slideshow": {
     "slide_type": "fragment"
    },
    "tags": []
   },
   "outputs": [],
   "source": [
    "# Print every key and value in our dictionary\n",
    "for key, value in my_dictionary.items():\n",
    "    print(f'{key} has the value: {value}')"
   ]
  },
  {
   "cell_type": "markdown",
   "metadata": {
    "editable": true,
    "slideshow": {
     "slide_type": "subslide"
    },
    "tags": []
   },
   "source": [
    "You can also do all these for loops in one line **comprehensions**."
   ]
  },
  {
   "cell_type": "code",
   "execution_count": null,
   "metadata": {
    "editable": true,
    "slideshow": {
     "slide_type": "fragment"
    },
    "tags": []
   },
   "outputs": [],
   "source": [
    "# A comprehension over keys\n",
    "[print(key) for key in my_dictionary.keys()]\n",
    "\n",
    "# A comprehension over values\n",
    "\n",
    "# A comprehension over items\n"
   ]
  },
  {
   "cell_type": "markdown",
   "metadata": {
    "editable": true,
    "slideshow": {
     "slide_type": "slide"
    },
    "tags": []
   },
   "source": [
    "# Converting Dictionaries to Lists and Sets"
   ]
  },
  {
   "cell_type": "markdown",
   "metadata": {
    "editable": true,
    "slideshow": {
     "slide_type": "subslide"
    },
    "tags": []
   },
   "source": [
    "Questions: \n",
    "* *When you use the `keys()`, `values()` and `items()` methods, do you get a set or a list?*\n",
    "* *When you type `list(my_dictionary)` what do you get?*\n",
    "* *When you type `set(my_dictionary)` what do you get?*"
   ]
  },
  {
   "cell_type": "code",
   "execution_count": null,
   "metadata": {
    "editable": true,
    "slideshow": {
     "slide_type": "fragment"
    },
    "tags": []
   },
   "outputs": [],
   "source": [
    "# Use this code cell to test how to convert dictionaries to lists and sets\n"
   ]
  },
  {
   "cell_type": "markdown",
   "metadata": {
    "editable": true,
    "slideshow": {
     "slide_type": "slide"
    },
    "tags": []
   },
   "source": [
    "# Final Observation about Dictionaries\n",
    "\n",
    "Dictionaries are an incredibly useful python data type. In fact, **json**, which is the format we get out of Constellate and which is very widely used across the internet, loads into python as a dictionary. Become comfortable with accessing dictionary items and with looking at dictionaries."
   ]
  }
 ],
 "metadata": {
  "kernelspec": {
   "display_name": "Python 3 (ipykernel)",
   "language": "python",
   "name": "python3"
  },
  "language_info": {
   "codemirror_mode": {
    "name": "ipython",
    "version": 3
   },
   "file_extension": ".py",
   "mimetype": "text/x-python",
   "name": "python",
   "nbconvert_exporter": "python",
   "pygments_lexer": "ipython3",
   "version": "3.10.8"
  },
  "toc": {
   "base_numbering": 1,
   "nav_menu": {},
   "number_sections": true,
   "sideBar": true,
   "skip_h1_title": true,
   "title_cell": "Table of Contents",
   "title_sidebar": "Contents",
   "toc_cell": false,
   "toc_position": {
    "height": "calc(100% - 180px)",
    "left": "10px",
    "top": "150px",
    "width": "354px"
   },
   "toc_section_display": true,
   "toc_window_display": false
  }
 },
 "nbformat": 4,
 "nbformat_minor": 4
}
