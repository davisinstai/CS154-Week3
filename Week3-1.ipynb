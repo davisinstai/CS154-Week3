{
 "cells": [
  {
   "cell_type": "code",
   "execution_count": null,
   "metadata": {},
   "outputs": [],
   "source": [
    "# This allows me to display the notebook as slides.\n",
    "import mercury as mr\n",
    " \n",
    "app = mr.App(title=\"Week 3-1\", description=\"Dictionaries\", show_code = True)"
   ]
  },
  {
   "cell_type": "markdown",
   "metadata": {},
   "source": [
    "# The Key Terms for Monday\n",
    "\n",
    "* dictionary\n",
    "* dictionary operators\n",
    "* dictionary functions\n",
    "* dictionary methods\n",
    "* dictionary comprehension"
   ]
  },
  {
   "cell_type": "markdown",
   "metadata": {},
   "source": [
    "## Dictionaries\n",
    "\n",
    "Like a [list](https://constellate.org/docs/key-terms/#list), a [dictionary](https://constellate.org/docs/key-terms/#dictionary) can hold many values within a single [variable](https://constellate.org/docs/key-terms/#variable). We have seen that the items of a [list](https://constellate.org/docs/key-terms/#list) are stored in a strictly-ordered fashion, starting from item 0. In a [dictionary](https://constellate.org/docs/key-terms/#dictionary), each [value](https://constellate.org/docs/key-terms/#key-value-pair) is stored in relation to a descriptive [key](https://constellate.org/docs/key-terms/#key-value-pair) forming a [key/value pair](https://constellate.org/docs/key-terms/#key-value-pair). Technically, as of [Python](https://constellate.org/docs/key-terms/#python) 3.7 (June 2018), [dictionaries](https://constellate.org/docs/key-terms/#dictionary) are also ordered by insertion. In practice, however, the most useful aspect of a [dictionary](https://constellate.org/docs/key-terms/#dictionary) is the ability to supply a [key](https://constellate.org/docs/key-terms/#key-value-pair) and receive a [value](https://constellate.org/docs/key-terms/#key-value-pair) without reference to [indices](https://constellate.org/docs/key-terms/#index-number). Whereas a [list](https://constellate.org/docs/key-terms/#list) is typed with brackets `[]`, a [dictionary](https://constellate.org/docs/key-terms/#dictionary) is typed with braces `{}`. The [key](https://constellate.org/docs/key-terms/#key-value-pair) and/or [value](https://constellate.org/docs/key-terms/#key-value-pair) can be an [integer](https://constellate.org/docs/key-terms/#integer), [float](https://constellate.org/docs/key-terms/#float), or [string](https://constellate.org/docs/key-terms/#string).\n",
    "\n",
    "`example_dictionary = {key1 : value1, key2 : value2, key3 : value3}`\n",
    "\n",
    "We could imagine, for example, a [dictionary](https://constellate.org/docs/key-terms/#dictionary) with our professional contacts' names as [keys](https://constellate.org/docs/key-terms/#key-value-pair) and their occupations as [values](https://constellate.org/docs/key-terms/#key-value-pair)."
   ]
  },
  {
   "cell_type": "code",
   "execution_count": null,
   "metadata": {},
   "outputs": [],
   "source": [
    "# An example of a dictionary storing names and occupations\n",
    "contacts ={\n",
    " 'Amanda Bennett': 'Engineer, electrical',\n",
    " 'Bryan Miller': 'Radiation protection practitioner',\n",
    " 'Christopher Garrison': 'Planning and development surveyor',\n",
    " 'Debra Allen': 'Intelligence analyst',\n",
    " 'Donna Decker': 'Architect',\n",
    " 'Heather Bullock': 'Media planner',\n",
    " 'Jason Brown': 'Energy manager',\n",
    " 'Jason Soto': 'Lighting technician, broadcasting/film/video',\n",
    " 'Marissa Munoz': 'Further education lecturer',\n",
    " 'Matthew Mccall': 'Chief Technology Officer',\n",
    " 'Michael Norman': 'Translator',\n",
    " 'Nicole Leblanc': 'Financial controller',\n",
    " 'Noah Delgado': 'Engineer, land',\n",
    " 'Rachel Charles': 'Physicist, medical',\n",
    " 'Stephanie Petty': 'Architect'}\n",
    "from pprint import pprint # We import the pretty print function which prints out dictionaries in a neater fashion than the built-in print() function\n",
    "pprint(contacts) # Use the pretty print function to print `contacts`"
   ]
  },
  {
   "cell_type": "markdown",
   "metadata": {},
   "source": [
    "We can add a new [key/value pair](https://constellate.org/docs/key-terms/#key-value-pair) to our [dictionary](https://constellate.org/docs/key-terms/#dictionary) using an [assignment statement](https://constellate.org/docs/key-terms/#assignment-statement)."
   ]
  },
  {
   "cell_type": "code",
   "execution_count": null,
   "metadata": {},
   "outputs": [],
   "source": [
    "# Adding the key 'Nathan Kelber' with the value 'Constellate Education Manager' to the dictionary contact\n",
    "contacts['Nathan Kelber'] = 'Constellate Education Manager'\n",
    "\n",
    "pprint(contacts) # Use the pretty print function to print `contacts`"
   ]
  },
  {
   "cell_type": "markdown",
   "metadata": {},
   "source": [
    "___\n",
    "<h3 style=\"color:red; display:inline\">Try it! &lt; / &gt; </h3>\n",
    "\n",
    "**Can you add your name to the contacts dictionary?**\n",
    "___"
   ]
  },
  {
   "cell_type": "markdown",
   "metadata": {},
   "source": [
    "Similar to deleting an item from a [list](https://constellate.org/docs/key-terms/#list), we can use a `del` statement to delete a [key/value pair](https://constellate.org/docs/key-terms/#key-value-pair). We do not need to worry about duplicates because every key in a dictionary must be unique."
   ]
  },
  {
   "cell_type": "code",
   "execution_count": null,
   "metadata": {},
   "outputs": [],
   "source": [
    "# Deleting a key/value pair from the dictionary contacts\n",
    "del contacts['Bryan Miller'] \n",
    "\n",
    "pprint(contacts) # Use the pretty print function to print `contacts`"
   ]
  },
  {
   "cell_type": "markdown",
   "metadata": {},
   "source": [
    "## Dictionary Methods\n",
    "\n",
    "We'll take a look at five useful [methods](https://constellate.org/docs/key-terms/#method) for working with [dictionaries](https://constellate.org/docs/key-terms/#dictionary): `update()`, `keys()`, `values()`, `items()`, and `get()`.\n",
    "\n",
    "|Method Name | Purpose | Form |\n",
    "|---|---|---|\n",
    "|update()| add new key/value pairs to a dictionary | dict_name.update({key1:value1, key2:value2})|\n",
    "| &nbsp; | combine two dictionaries |dict_name.update(dict_name2)|\n",
    "|keys()| check if a key is in a dictionary (True/False) | key_name in dict_name.keys()|\n",
    "| &nbsp; | Loop through the keys in a dictionary | for k in dict.keys():|\n",
    "|values()| check if a value is in a dictionary (True/False) | value_name in dict_name.values()|\n",
    "| &nbsp;| Loop through the values in a dictionary | for v in dict.values():|\n",
    "|items()| Loop through the keys and values in a dictionary | for k, v in dict.items():|\n",
    "|get()| retrieve the value for a specific key | dict_name.get(key_name) |"
   ]
  },
  {
   "cell_type": "markdown",
   "metadata": {},
   "source": [
    "### The `update()` Method\n",
    "\n",
    "The `update()` [method](https://constellate.org/docs/key-terms/#method) is useful for adding many [key/value pairs](https://constellate.org/docs/key-terms/#key-value-pair) to a [dictionary](https://constellate.org/docs/key-terms/#dictionary) at once. The `update()` [method](https://constellate.org/docs/key-terms/#method) accepts a single [key/value pair](https://constellate.org/docs/key-terms/#key-value-pair), multiple pairs, or even other [dictionaries](https://constellate.org/docs/key-terms/#dictionary)."
   ]
  },
  {
   "cell_type": "code",
   "execution_count": null,
   "metadata": {},
   "outputs": [],
   "source": [
    "# Add a single key/value pair to the dictionary contacts using the update() method\n",
    "contacts.update(\n",
    "    {'Nathan Kelber': 'Constellate Education Manager'}\n",
    ")\n",
    "\n",
    "pprint(contacts) # Use the pretty print function to print `contacts`"
   ]
  },
  {
   "cell_type": "code",
   "execution_count": null,
   "metadata": {},
   "outputs": [],
   "source": [
    "# Adding several key/value pairs to the dictionary contacts using the update() method\n",
    "contacts.update(\n",
    "    {\"Matt Lincoln\": \"Software Engineer\",\n",
    "     'Ian DesJardins': 'Software Engineer',\n",
    "    'Zhuo Chen': 'Text Analysis Instructor'}\n",
    ")\n",
    "\n",
    "pprint(contacts) # Use the pretty print function to print `contacts`"
   ]
  },
  {
   "cell_type": "markdown",
   "metadata": {},
   "source": [
    "### The `keys()` and `values()` Methods\n",
    "\n",
    "The `keys()`, `values()`, and `items()` [methods](https://constellate.org/docs/key-terms/#method) are useful for when checking whether a particular [key](https://constellate.org/docs/key-terms/#key-value-pair) or [value](https://constellate.org/docs/key-terms/#key-value-pair) exists in a [dictionary](https://constellate.org/docs/key-terms/#dictionary). We can pair them with `in` or `not in` operators to check whether a value is in our [dictionary](https://constellate.org/docs/key-terms/#dictionary) (just like we did with [lists](https://constellate.org/docs/key-terms/#list))."
   ]
  },
  {
   "cell_type": "code",
   "execution_count": null,
   "metadata": {},
   "outputs": [],
   "source": [
    "# Checking if a key is in the contacts dictionary\n",
    "# Do I know a Noah Delgado?\n",
    "'Noah Delgado' in contacts.keys()"
   ]
  },
  {
   "cell_type": "code",
   "execution_count": null,
   "metadata": {},
   "outputs": [],
   "source": [
    "# Checking if a value is in the contacts dictionary\n",
    "# Do I know an Architect?\n",
    "'Architect' in contacts.values()"
   ]
  },
  {
   "cell_type": "markdown",
   "metadata": {},
   "source": [
    "### The `get()` Method\n",
    "\n",
    "If we are sure a [key](https://constellate.org/docs/key-terms/#key-value-pair) exists, we can return the corresponding value using:\n",
    "\n",
    "`dict_name[key_name]` "
   ]
  },
  {
   "cell_type": "code",
   "execution_count": null,
   "metadata": {},
   "outputs": [],
   "source": [
    "# Return a value for a particular key\n",
    "contacts['Noah Delgado']"
   ]
  },
  {
   "cell_type": "markdown",
   "metadata": {},
   "source": [
    "However, if the [key](https://constellate.org/docs/key-terms/#key-value-pair) is not found, the result will be a `KeyError`. "
   ]
  },
  {
   "cell_type": "code",
   "execution_count": null,
   "metadata": {},
   "outputs": [],
   "source": [
    "# Asking for a key that does not exist\n",
    "contacts['Mickey Mouse']"
   ]
  },
  {
   "cell_type": "markdown",
   "metadata": {},
   "source": [
    "The more robust approach is to use the `get()` [method](https://constellate.org/docs/key-terms/#method). If the [key](https://constellate.org/docs/key-terms/#key-value-pair) is not found, the `None` value will be returned. (Optionally, we can also specify a default message to return.)\n",
    "\n",
    "`dict_name.get('key_name', 'key_not_found_message')`"
   ]
  },
  {
   "cell_type": "code",
   "execution_count": null,
   "metadata": {},
   "outputs": [],
   "source": [
    "# Using the get() method to retrieve the value for the key 'Marissa Munoz'\n",
    "contacts.get('Marissa Munoz')"
   ]
  },
  {
   "cell_type": "markdown",
   "metadata": {},
   "source": [
    "### Combining `keys()`, `values()`, and `items()` with Flow Control Statements\n",
    "\n",
    "It is often usful to combine `for` loops with the keys(), values(), or items() [methods](https://constellate.org/docs/key-terms/#method) to repeat a task for each entry in a [dictionary](https://constellate.org/docs/key-terms/#dictionary). We have the following options:\n",
    "\n",
    "* `.keys()` iterates through only the dictionary keys\n",
    "* `.values()` iterates through only the dictionary values\n",
    "* `.items()` iterates through the keys *and* values\n",
    "\n",
    "Just like a list `for` loop, a temporary variable will be created based on whatever name comes after `for`."
   ]
  },
  {
   "cell_type": "code",
   "execution_count": null,
   "metadata": {},
   "outputs": [],
   "source": [
    "# Print every key in our contacts dictionary\n",
    "for name in contacts.keys(): # The variable `name` could be any variable name we choose\n",
    "    print(name)"
   ]
  },
  {
   "cell_type": "code",
   "execution_count": null,
   "metadata": {},
   "outputs": [],
   "source": [
    "# Print every value in our contacts dictionary\n",
    "for occupation in contacts.values(): # The variable `occupation` here could be any variable name we choose\n",
    "    print(occupation)"
   ]
  },
  {
   "cell_type": "markdown",
   "metadata": {},
   "source": [
    "If we use the `.items()` method, we need to define *two* variable names. It is valid Python to define two variables at once."
   ]
  },
  {
   "cell_type": "code",
   "execution_count": null,
   "metadata": {},
   "outputs": [],
   "source": [
    "# Define two variables at once in Python and assign two strings\n",
    "word1, word2 = 'Python', 'Basics'\n",
    "\n",
    "# Verify the variables have been properly assigned\n",
    "print(word1)\n",
    "print(word2)"
   ]
  },
  {
   "cell_type": "code",
   "execution_count": null,
   "metadata": {},
   "outputs": [],
   "source": [
    "# Print every key and value in our contacts dictionary\n",
    "for name, occupation in contacts.items():\n",
    "    print(f'{name} has the job: {occupation}')"
   ]
  },
  {
   "cell_type": "markdown",
   "metadata": {},
   "source": [
    "___\n",
    "<h2 style=\"color:red; display:inline\">Coding Challenge! &lt; / &gt; </h2>\n",
    "\n",
    "**Using your knowledge of flow control statements and dictionaries, can you write a program that lists all the architects in your contacts? Check the end of this notebook for possible solutions.**\n",
    "___"
   ]
  },
  {
   "cell_type": "code",
   "execution_count": null,
   "metadata": {},
   "outputs": [],
   "source": [
    "# Level 1 Challenge\n",
    "# A challenge to search a contacts dictionary and output any individuals who are architects. The result\n",
    "# should contain the name of any contacts who are architects.\n",
    "\n",
    "contacts ={\n",
    " 'Amanda Bennett': 'Engineer, electrical',\n",
    " 'Bryan Miller': 'Radiation protection practitioner',\n",
    " 'Christopher Garrison': 'Planning and development surveyor',\n",
    " 'Debra Allen': 'Intelligence analyst',\n",
    " 'Donna Decker': 'Architect',\n",
    " 'Heather Bullock': 'Media planner',\n",
    " 'Jason Brown': 'Energy manager',\n",
    " 'Jason Soto': 'Lighting technician, broadcasting/film/video',\n",
    " 'Marissa Munoz': 'Further education lecturer',\n",
    " 'Matthew Mccall': 'Chief Technology Officer',\n",
    " 'Michael Norman': 'Translator',\n",
    " 'Nicole Leblanc': 'Financial controller',\n",
    " 'Noah Delgado': 'Engineer, land',\n",
    " 'Rachel Charles': 'Physicist, medical',\n",
    " 'Stephanie Petty': 'Architect'}\n",
    "\n",
    "# Write your solution here. Example solutions at the end of this notebook.\n"
   ]
  },
  {
   "cell_type": "code",
   "execution_count": null,
   "metadata": {},
   "outputs": [],
   "source": [
    "# Level 2 Challenge\n",
    "# From the dictionary called contacts, create a Python list called `leads` containing the names of people \n",
    "# who are architects, translators, or media planners.\n"
   ]
  },
  {
   "cell_type": "markdown",
   "metadata": {},
   "source": [
    "___\n",
    "## Lesson Complete\n",
    "Congratulations! You have completed *Python Basics 3*. There are two more lessons in *Python Basics*:\n",
    "\n",
    "* *Python Basics 4*\n",
    "* *Python Basics 5*\n",
    "\n",
    "### Start Next Lesson: [Python Basics 4](./python-basics-4.ipynb)"
   ]
  },
  {
   "cell_type": "markdown",
   "metadata": {},
   "source": [
    "### Coding Challenge! Solutions\n"
   ]
  },
  {
   "cell_type": "code",
   "execution_count": null,
   "metadata": {},
   "outputs": [],
   "source": [
    "# Level 1 Solution\n",
    "# Correct the errors in the ranking list\n",
    "\n",
    "# Create the list\n",
    "ranking = ['USA',\n",
    "           'Germany',\n",
    "           'Sweden',\n",
    "           'France',\n",
    "           'Uruguay',\n",
    "           'Spain',\n",
    "           'Canda',\n",
    "           'Brazil',\n",
    "           'Netherlands',]\n",
    "\n",
    "# Correct the spelling of Canada\n",
    "ranking[6] = 'Canada'\n",
    "\n",
    "# Remove Uruguay and add Australia\n",
    "if 'Uruguay' in ranking:\n",
    "    ranking.remove('Uruguay')\n",
    "\n",
    "ranking.append('Australia')\n",
    "\n",
    "# Add England after Sweden\n",
    "if 'Sweden' in ranking:\n",
    "    england_index = ranking.index('Sweden') + 1\n",
    "    ranking.insert(england_index, 'England')"
   ]
  },
  {
   "cell_type": "code",
   "execution_count": null,
   "metadata": {},
   "outputs": [],
   "source": [
    "# Level 2 Solution\n",
    "# Write a program that lets the user input any country and check if they are in the top ten ranking\n",
    "\n",
    "# Create the ranking list\n",
    "ranking = ['USA',\n",
    " 'Germany',\n",
    " 'Sweden',\n",
    " 'England',\n",
    " 'France',\n",
    " 'Spain',\n",
    " 'Canada',\n",
    " 'Brazil',\n",
    " 'Netherlands',\n",
    " 'Australia']\n",
    "\n",
    "# Get the country from the user\n",
    "country = input('Which country are you interested in? ')\n",
    "\n",
    "if country in ranking:\n",
    "    print(f'{country} is in the top ten!')\n",
    "else:\n",
    "    print(f'{country} is not in the top ten.')"
   ]
  },
  {
   "cell_type": "code",
   "execution_count": null,
   "metadata": {},
   "outputs": [],
   "source": [
    "# Level 3 Solution\n",
    "# Write a program that lets a user input a country and receive their rank\n",
    "\n",
    "# Create the ranking list\n",
    "ranking = ['USA',\n",
    " 'Germany',\n",
    " 'Sweden',\n",
    " 'England',\n",
    " 'France',\n",
    " 'Spain',\n",
    " 'Canada',\n",
    " 'Brazil',\n",
    " 'Netherlands',\n",
    " 'Australia']\n",
    "\n",
    "# Get the country from the user\n",
    "country = input('Which country are you interested in? ')\n",
    "\n",
    "if country in ranking:\n",
    "    rank = ranking.index(country) + 1\n",
    "    print(f'{country} is ranked {rank}')\n",
    "else:\n",
    "    print(f'{country} is not in the top ten.')"
   ]
  },
  {
   "cell_type": "code",
   "execution_count": null,
   "metadata": {},
   "outputs": [],
   "source": [
    "# Level 4 Solution\n",
    "# Write a program that lets a user input a country and return all the teams with a higher rank\n",
    "\n",
    "# Create the ranking list\n",
    "ranking = ['USA',\n",
    " 'Germany',\n",
    " 'Sweden',\n",
    " 'England',\n",
    " 'France',\n",
    " 'Spain',\n",
    " 'Canada',\n",
    " 'Brazil',\n",
    " 'Netherlands',\n",
    " 'Australia']\n",
    "\n",
    "# Get the country from the user\n",
    "country = input('Which country are you interested in? ')\n",
    "\n",
    "if country in ranking:\n",
    "    index = ranking.index(country)\n",
    "else:\n",
    "    index = None\n",
    "    print('That country is not in the top ten.')\n",
    "\n",
    "if index != None:\n",
    "    print('These countries have a higher rank:')\n",
    "    for each_country in ranking[:index]:\n",
    "        print(each_country)"
   ]
  },
  {
   "cell_type": "markdown",
   "metadata": {},
   "source": [
    "#### Dictionaries Challenge Level 1"
   ]
  },
  {
   "cell_type": "code",
   "execution_count": null,
   "metadata": {},
   "outputs": [],
   "source": [
    "# Level 1 Challenge Solution\n",
    "# A challenge to search a contacts dictionary and output any individuals who are architects. The result\n",
    "# should contain the name of any contacts who are architects.\n",
    "\n",
    "contacts ={\n",
    " 'Amanda Bennett': 'Engineer, electrical',\n",
    " 'Bryan Miller': 'Radiation protection practitioner',\n",
    " 'Christopher Garrison': 'Planning and development surveyor',\n",
    " 'Debra Allen': 'Intelligence analyst',\n",
    " 'Donna Decker': 'Architect',\n",
    " 'Heather Bullock': 'Media planner',\n",
    " 'Jason Brown': 'Energy manager',\n",
    " 'Jason Soto': 'Lighting technician, broadcasting/film/video',\n",
    " 'Marissa Munoz': 'Further education lecturer',\n",
    " 'Matthew Mccall': 'Chief Technology Officer',\n",
    " 'Michael Norman': 'Translator',\n",
    " 'Nicole Leblanc': 'Financial controller',\n",
    " 'Noah Delgado': 'Engineer, land',\n",
    " 'Rachel Charles': 'Physicist, medical',\n",
    " 'Stephanie Petty': 'Architect'}\n",
    "\n",
    "# Write your solution here. Example solutions at the end of this notebook.\n",
    "\n",
    "for name, occupation in contacts.items():\n",
    "    if occupation == 'Architect':\n",
    "        print(name)"
   ]
  },
  {
   "cell_type": "markdown",
   "metadata": {},
   "source": [
    "#### Dictionaries Challenge Level 2"
   ]
  },
  {
   "cell_type": "code",
   "execution_count": null,
   "metadata": {},
   "outputs": [],
   "source": [
    "# Level 2 Challenge\n",
    "# From the dictionary called contacts, create a Python list called `leads` containing the names of people \n",
    "# who are architects, translators, or media planners.\n",
    "leads = []\n",
    "\n",
    "for name, occupation in contacts.items():\n",
    "    if occupation == 'Architect' or occupation == 'Translator' or occupation =='Media planner':\n",
    "        leads.append(name)\n",
    "\n",
    "print(leads)"
   ]
  },
  {
   "cell_type": "markdown",
   "metadata": {},
   "source": [
    "hashmap; json"
   ]
  }
 ],
 "metadata": {
  "kernelspec": {
   "display_name": "Python 3 (ipykernel)",
   "language": "python",
   "name": "python3"
  },
  "language_info": {
   "codemirror_mode": {
    "name": "ipython",
    "version": 3
   },
   "file_extension": ".py",
   "mimetype": "text/x-python",
   "name": "python",
   "nbconvert_exporter": "python",
   "pygments_lexer": "ipython3",
   "version": "3.11.4"
  },
  "toc": {
   "base_numbering": 1,
   "nav_menu": {},
   "number_sections": true,
   "sideBar": true,
   "skip_h1_title": true,
   "title_cell": "Table of Contents",
   "title_sidebar": "Contents",
   "toc_cell": false,
   "toc_position": {
    "height": "calc(100% - 180px)",
    "left": "10px",
    "top": "150px",
    "width": "354px"
   },
   "toc_section_display": true,
   "toc_window_display": false
  }
 },
 "nbformat": 4,
 "nbformat_minor": 4
}
